{
 "cells": [
  {
   "cell_type": "code",
   "execution_count": 7,
   "id": "6a5a8ebd",
   "metadata": {},
   "outputs": [
    {
     "name": "stdout",
     "output_type": "stream",
     "text": [
      "5 3 7 2 4 8 "
     ]
    }
   ],
   "source": [
    "graph = {\n",
    "  '5' : ['3','7'],\n",
    "  '3' : ['2', '4'],\n",
    "  '7' : ['8'],\n",
    "  '2' : [],\n",
    "  '4' : ['8'],\n",
    "  '8' : []\n",
    "}\n",
    "def BFS(start,graph,visited=[],queue=[]):\n",
    "    queue.append(start)\n",
    "    visited.append(start)\n",
    "    while queue:\n",
    "        m=queue.pop(0)\n",
    "        print(m,end=\" \")\n",
    "        for neighbour in graph[m]:\n",
    "            if neighbour not in visited:\n",
    "                visited.append(neighbour)\n",
    "                queue.append(neighbour)\n",
    "BFS('5',graph)"
   ]
  },
  {
   "cell_type": "code",
   "execution_count": 8,
   "id": "f65bfaa0",
   "metadata": {},
   "outputs": [
    {
     "name": "stdout",
     "output_type": "stream",
     "text": [
      "5 3 7 2 4 8 "
     ]
    }
   ],
   "source": [
    "graph = {\n",
    "  '5' : ['3','7'],\n",
    "  '3' : ['2', '4'],\n",
    "  '7' : ['8'],\n",
    "  '2' : [],\n",
    "  '4' : ['8'],\n",
    "  '8' : []\n",
    "}\n",
    "visited=[]\n",
    "queue=[]\n",
    "def BFS(visited,graph,queue,node):\n",
    "    visited.append(node)\n",
    "    queue.append(node)\n",
    "    while queue:\n",
    "        m=queue.pop(0)\n",
    "        print(m,end=\" \")\n",
    "        for neighbour in graph[m]:\n",
    "            if neighbour not in visited:\n",
    "                visited.append(neighbour)\n",
    "                queue.append(neighbour)\n",
    "BFS(visited,graph,queue,'5')"
   ]
  },
  {
   "cell_type": "code",
   "execution_count": 10,
   "id": "4336609b",
   "metadata": {},
   "outputs": [
    {
     "name": "stdout",
     "output_type": "stream",
     "text": [
      "5 3 2 4 8 7 "
     ]
    }
   ],
   "source": [
    "graph = {\n",
    "  '5' : ['3','7'],\n",
    "  '3' : ['2', '4'],\n",
    "  '7' : ['8'],\n",
    "  '2' : [],\n",
    "  '4' : ['8'],\n",
    "  '8' : []\n",
    "}\n",
    "def DFS(start,graph,visited=[]):\n",
    "    if start not in visited:\n",
    "        visited.append(start)\n",
    "        print(start,end=\" \")\n",
    "        for neighbour in graph[start]:\n",
    "            DFS(neighbour,graph,visited)\n",
    "DFS('5',graph)"
   ]
  },
  {
   "cell_type": "code",
   "execution_count": 13,
   "id": "fd9fbaec",
   "metadata": {},
   "outputs": [
    {
     "name": "stdout",
     "output_type": "stream",
     "text": [
      "[6, -1, -1]\n"
     ]
    }
   ],
   "source": [
    "def shortestDistance(start,end,route,distance=0,short_dist=-1,visited=dict()):\n",
    "    if start==end or start not in route.keys():\n",
    "        return max(short_dist, distance) if short_dist == -1 else min(short_dist, distance)\n",
    "    else:\n",
    "        if start not in visited.keys() or visited[start]>distance:\n",
    "            visited[start]=distance\n",
    "            for dest in route[start]:\n",
    "                short_dist=shortestDistance(dest,end,route,distance+6,short_dist)\n",
    "    return short_dist\n",
    "def bfs(n, m, edges, s):\n",
    "    # Write your code here\n",
    "    routes=dict()\n",
    "    for start,end in edges:\n",
    "        if start not in routes.keys():\n",
    "            routes[start]=[end]\n",
    "        else:\n",
    "            routes[start].append(end)\n",
    "    result=[]\n",
    "    for value in range(1,n+1):\n",
    "        if value!=s:\n",
    "            result.append(shortestDistance(s,value,routes))\n",
    "    return result\n",
    "result=bfs(4,2,[[1,2],[1,3]],1)\n",
    "print(result)"
   ]
  },
  {
   "cell_type": "code",
   "execution_count": 21,
   "id": "d370375f",
   "metadata": {},
   "outputs": [
    {
     "data": {
      "text/plain": [
       "6"
      ]
     },
     "execution_count": 21,
     "metadata": {},
     "output_type": "execute_result"
    }
   ],
   "source": [
    "# find the minimum distance requ\n",
    "graph = {\n",
    "  '5' : ['3','7'],\n",
    "  '3' : ['2', '4'],\n",
    "  '7' : ['8'],\n",
    "  '2' : [],\n",
    "  '4' : ['8'],\n",
    "  '8' : []\n",
    "}\n",
    "def shortestDistance(start,end,route,distance=0,short_dist=-1,visited=dict()):\n",
    "    if start==end or start not in route.keys():\n",
    "        return max(short_dist, distance) if short_dist == -1 else min(short_dist, distance)\n",
    "    else:\n",
    "        if start not in visited.keys() or visited[start]>distance:\n",
    "            visited[start]=distance\n",
    "            for dest in route[start]:\n",
    "                short_dist=shortestDistance(dest,end,route,distance+6,short_dist)\n",
    "    return short_dist\n",
    "shortestDistance('4','8',graph)"
   ]
  },
  {
   "cell_type": "code",
   "execution_count": null,
   "id": "e20f3bd9",
   "metadata": {},
   "outputs": [],
   "source": []
  }
 ],
 "metadata": {
  "kernelspec": {
   "display_name": "Python 3",
   "language": "python",
   "name": "python3"
  },
  "language_info": {
   "codemirror_mode": {
    "name": "ipython",
    "version": 3
   },
   "file_extension": ".py",
   "mimetype": "text/x-python",
   "name": "python",
   "nbconvert_exporter": "python",
   "pygments_lexer": "ipython3",
   "version": "3.8.8"
  }
 },
 "nbformat": 4,
 "nbformat_minor": 5
}
