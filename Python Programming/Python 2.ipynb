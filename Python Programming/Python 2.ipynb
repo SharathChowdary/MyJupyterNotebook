{
 "cells": [
  {
   "cell_type": "markdown",
   "id": "9e32b677",
   "metadata": {},
   "source": [
    "# Iterator\n",
    "An iterator is an object that contains a countable number of values. An iterator is an object that can be iterated upon, meaning that you can traverse through all the values. Technically, in Python, an iterator is an object which implements the iterator protocol, which consist of the methods __iter__() and __next__() ."
   ]
  },
  {
   "cell_type": "code",
   "execution_count": 2,
   "id": "229ccaa6",
   "metadata": {},
   "outputs": [
    {
     "name": "stdout",
     "output_type": "stream",
     "text": [
      "4\n",
      "3\n",
      "5\n",
      "9\n",
      "7\n",
      "1\n",
      "6\n"
     ]
    }
   ],
   "source": [
    "#normal way of iterating using for loop\n",
    "lst=[4,3,5,9,7,1,6]\n",
    "for i in lst:\n",
    "    print(i)"
   ]
  },
  {
   "cell_type": "code",
   "execution_count": 16,
   "id": "ad92fcdb",
   "metadata": {},
   "outputs": [
    {
     "name": "stdout",
     "output_type": "stream",
     "text": [
      "4\n",
      "3\n",
      "5\n",
      "9\n",
      "7\n",
      "1\n"
     ]
    }
   ],
   "source": [
    "#iterating one by one element using iter() \n",
    "lst=[4,3,5,9,7,1,6]\n",
    "it=iter(lst)\n",
    "print(it.__next__()) \n",
    "print(it.__next__())\n",
    "print(it.__next__())\n",
    "print(it.__next__())\n",
    "print(it.__next__())\n",
    "print(next(it)) #it can also be used"
   ]
  },
  {
   "cell_type": "code",
   "execution_count": 33,
   "id": "ce163265",
   "metadata": {},
   "outputs": [
    {
     "name": "stdout",
     "output_type": "stream",
     "text": [
      "1\n",
      "2\n",
      "3\n",
      "4\n",
      "5\n",
      "6\n",
      "7\n",
      "8\n",
      "9\n",
      "10\n"
     ]
    }
   ],
   "source": [
    "# creating an iterator for values 1 to 10\n",
    "class TopTen:\n",
    "    def __init__(self):\n",
    "        self.num=1\n",
    "    def __iter__(self):\n",
    "        return self\n",
    "    def __next__(self):\n",
    "        if self.num<=10:\n",
    "            val=self.num\n",
    "            self.num+=1\n",
    "            return val\n",
    "        else:\n",
    "            raise StopIteration\n",
    "vals=TopTen()\n",
    "print(vals.__next__())\n",
    "print(next(vals))\n",
    "for i in vals:\n",
    "    print(i)"
   ]
  },
  {
   "cell_type": "code",
   "execution_count": 34,
   "id": "8762473d",
   "metadata": {},
   "outputs": [
    {
     "name": "stdout",
     "output_type": "stream",
     "text": [
      "4\n",
      "5\n",
      "6\n",
      "7\n",
      "8\n",
      "9\n",
      "10\n",
      "11\n",
      "12\n",
      "13\n",
      "14\n",
      "15\n"
     ]
    }
   ],
   "source": [
    "#creating own Iterator class for given range\n",
    "class Iterator:\n",
    "    def __init__(self,start,end):\n",
    "        self.start=start\n",
    "        self.end=end\n",
    "    def __iter__(self):\n",
    "        return self\n",
    "    def __next__(self):\n",
    "        if self.start<=self.end:\n",
    "            val=self.start\n",
    "            self.start+=1\n",
    "            return val\n",
    "        else:\n",
    "            raise StopIteration\n",
    "values=Iterator(4,15)\n",
    "for i in values:\n",
    "    print(i)"
   ]
  },
  {
   "cell_type": "markdown",
   "id": "315f6f50",
   "metadata": {},
   "source": [
    "# Generators\n",
    "In Python, a generator is a function that returns an iterator that produces a sequence of values when iterated over. Generators are useful when we want to produce a large sequence of values, but we don't want to store all of them in memory at once."
   ]
  },
  {
   "cell_type": "code",
   "execution_count": 35,
   "id": "16d14b60",
   "metadata": {},
   "outputs": [
    {
     "name": "stdout",
     "output_type": "stream",
     "text": [
      "1\n",
      "2\n",
      "3\n",
      "4\n",
      "5\n"
     ]
    }
   ],
   "source": [
    "# returning an iterator containing 1 to 5\n",
    "def topfive():\n",
    "    yield 1\n",
    "    yield 2\n",
    "    yield 3\n",
    "    yield 4\n",
    "    yield 5\n",
    "values=topfive()\n",
    "for i in values:\n",
    "    print(i)"
   ]
  },
  {
   "cell_type": "code",
   "execution_count": 38,
   "id": "20a6cb99",
   "metadata": {},
   "outputs": [
    {
     "name": "stdout",
     "output_type": "stream",
     "text": [
      "1\n",
      "4\n",
      "9\n",
      "16\n",
      "25\n",
      "36\n",
      "49\n",
      "64\n",
      "81\n",
      "100\n"
     ]
    }
   ],
   "source": [
    "# returning an iterator containing squares of 1 to 10\n",
    "def topTenSquares():\n",
    "    i=1\n",
    "    while i<=10:\n",
    "        yield i*i\n",
    "        i+=1\n",
    "squares=topTenSquares()\n",
    "for i in squares:\n",
    "    print(i)"
   ]
  },
  {
   "cell_type": "markdown",
   "id": "c06c95e8",
   "metadata": {},
   "source": [
    "# Exception Handling\n",
    "\n",
    "Erros are mainly three types:  \n",
    "1. Compile time errors (Syntax errors)\n",
    "2. Logical Errors (wrong output i.e. wrong logic)\n",
    "3. Run time Errors (eg. ZeroDivisionError)"
   ]
  },
  {
   "cell_type": "code",
   "execution_count": 39,
   "id": "4dfe5dfb",
   "metadata": {},
   "outputs": [
    {
     "name": "stdout",
     "output_type": "stream",
     "text": [
      "2.5\n"
     ]
    }
   ],
   "source": [
    "#generally the code is divided into two parts (i.e normal statements and critical statements)\n",
    "a=5\n",
    "b=2\n",
    "#above two lines are normal statements (i.e there is no chance of getting an error)\n",
    "print(a/b) # it is a critical statement (i.e there is a chance of getting an error)\n",
    "# Hence, critical statements are to be kept in \"try\" block"
   ]
  },
  {
   "cell_type": "code",
   "execution_count": 46,
   "id": "02c34ca8",
   "metadata": {},
   "outputs": [
    {
     "name": "stdout",
     "output_type": "stream",
     "text": [
      "Hey, you can't divide a number by zero\n"
     ]
    }
   ],
   "source": [
    "#exception Handling using try and except\n",
    "a=5\n",
    "b=0\n",
    "try:\n",
    "    print(a/b)\n",
    "except Exception:\n",
    "    print(\"Hey, you can't divide a number by zero\")"
   ]
  },
  {
   "cell_type": "markdown",
   "id": "218704a7",
   "metadata": {},
   "source": [
    "j**finally :** It defines a block of code to run when the try... except...else block is final. The finally block will be executed no matter if the try block raises an error or not. This can be useful to close objects and clean up resources."
   ]
  },
  {
   "cell_type": "code",
   "execution_count": 47,
   "id": "7eb4b4a9",
   "metadata": {},
   "outputs": [
    {
     "name": "stdout",
     "output_type": "stream",
     "text": [
      "Hey, you can't divide a number by zero\n",
      "Byeee\n"
     ]
    }
   ],
   "source": [
    "#exception Handling using try and except\n",
    "a=5\n",
    "b=0\n",
    "try:\n",
    "    print(a/b)\n",
    "except Exception:\n",
    "    print(\"Hey, you can't divide a number by zero\")\n",
    "finally:\n",
    "    print(\"Byeee\")"
   ]
  },
  {
   "cell_type": "code",
   "execution_count": 49,
   "id": "7f0059ff",
   "metadata": {},
   "outputs": [
    {
     "name": "stdout",
     "output_type": "stream",
     "text": [
      "Hey, you can't divide a number by zero\n",
      "Error :  division by zero\n",
      "Byeee\n"
     ]
    }
   ],
   "source": [
    "a=5\n",
    "b=0\n",
    "try:\n",
    "    print(a/b)\n",
    "except Exception as e:\n",
    "    print(\"Hey, you can't divide a number by zero\")\n",
    "    print(\"Error : \",e)\n",
    "finally:\n",
    "    print(\"Byeee\")"
   ]
  },
  {
   "cell_type": "code",
   "execution_count": 50,
   "id": "2209acea",
   "metadata": {},
   "outputs": [
    {
     "name": "stdout",
     "output_type": "stream",
     "text": [
      "2.5\n",
      "Enter a number : s\n",
      "Hey, you can't enter anything other than numbers\n",
      "Error :  invalid literal for int() with base 10: 's'\n",
      "Byeee\n"
     ]
    }
   ],
   "source": [
    "# multiple except blocks\n",
    "a=5\n",
    "b=2\n",
    "try:\n",
    "    print(a/b)\n",
    "    n=int(input(\"Enter a number : \"))\n",
    "except ZeroDivisionError as e:\n",
    "    print(\"Hey, you can't divide a number by zero\")\n",
    "    print(\"Error : \",e)\n",
    "except ValueError as e:\n",
    "    print(\"Hey, you can't enter anything other than numbers\")\n",
    "    print(\"Error : \",e)\n",
    "except Exception as e:\n",
    "    print(\"OOPS! Something went wrong...\")\n",
    "    print(\"Error : \",e)\n",
    "finally:\n",
    "    print(\"Byeee\")"
   ]
  },
  {
   "cell_type": "markdown",
   "id": "8ab7e8b8",
   "metadata": {},
   "source": [
    "# Multi Threading\n",
    "Multithreading allows the execution of multiple parts of a program at the same time. These parts are known as threads and are lightweight processes available within the process. So multithreading leads to maximum utilization of the CPU by multitasking."
   ]
  },
  {
   "cell_type": "code",
   "execution_count": 53,
   "id": "62f35836",
   "metadata": {},
   "outputs": [
    {
     "name": "stdout",
     "output_type": "stream",
     "text": [
      "Hello\n",
      "Hello\n",
      "Hello\n",
      "Hello\n",
      "Hello\n",
      "Hii\n",
      "Hii\n",
      "Hii\n",
      "Hii\n",
      "Hii\n"
     ]
    }
   ],
   "source": [
    "class Hello:\n",
    "    def run(self):\n",
    "        for i in range(5):\n",
    "            print(\"Hello\")\n",
    "class Hi:\n",
    "    def run(self):\n",
    "        for i in range(5):\n",
    "            print(\"Hii\")\n",
    "t1=Hello()\n",
    "t2=Hi()\n",
    "t1.run()\n",
    "t2.run()\n",
    "#here we can observe that Hi is executing after completely executing Hello"
   ]
  },
  {
   "cell_type": "code",
   "execution_count": 61,
   "id": "bec4fa04",
   "metadata": {},
   "outputs": [
    {
     "name": "stdout",
     "output_type": "stream",
     "text": [
      "Hello\n",
      "HelloHii\n",
      "Hii\n",
      "Hii\n",
      "Hello\n",
      "Hello\n",
      "Hello\n",
      "\n",
      "Hii\n",
      "Hii\n"
     ]
    }
   ],
   "source": [
    "from threading import Thread\n",
    "class Hello(Thread):\n",
    "    def run(self):\n",
    "        for i in range(5):\n",
    "            print(\"Hello\")\n",
    "class Hi(Thread):\n",
    "    def run(self):\n",
    "        for i in range(5):\n",
    "            print(\"Hii\")\n",
    "t1=Hello()\n",
    "t2=Hi()\n",
    "t1.start()\n",
    "t2.start()"
   ]
  },
  {
   "cell_type": "code",
   "execution_count": 65,
   "id": "9970220f",
   "metadata": {},
   "outputs": [
    {
     "name": "stdout",
     "output_type": "stream",
     "text": [
      "Hello\n",
      "Hii\n",
      "Hello\n",
      "Hii\n",
      "Hello\n",
      "Hii\n",
      "Hello\n",
      "Hii\n",
      "Hello\n",
      "Hii\n"
     ]
    }
   ],
   "source": [
    "from threading import Thread\n",
    "from time import sleep\n",
    "class Hello(Thread):\n",
    "    def run(self):\n",
    "        for i in range(5):\n",
    "            print(\"Hello\")\n",
    "            sleep(1)\n",
    "class Hi(Thread):\n",
    "    def run(self):\n",
    "        for i in range(5):\n",
    "            print(\"Hii\")\n",
    "            sleep(1)\n",
    "t1=Hello()\n",
    "t2=Hi()\n",
    "t1.start()\n",
    "sleep(0.2)\n",
    "t2.start()"
   ]
  },
  {
   "cell_type": "code",
   "execution_count": 66,
   "id": "20fcfec8",
   "metadata": {},
   "outputs": [
    {
     "name": "stdout",
     "output_type": "stream",
     "text": [
      "Hello\n",
      "HiiByee\n",
      "\n",
      "Hello\n",
      "Hii\n",
      "Hello\n",
      "Hii\n",
      "Hello\n",
      "Hii\n",
      "Hello\n",
      "Hii\n"
     ]
    }
   ],
   "source": [
    "from threading import Thread\n",
    "from time import sleep\n",
    "class Hello(Thread):\n",
    "    def run(self):\n",
    "        for i in range(5):\n",
    "            print(\"Hello\")\n",
    "            sleep(1)\n",
    "class Hi(Thread):\n",
    "    def run(self):\n",
    "        for i in range(5):\n",
    "            print(\"Hii\")\n",
    "            sleep(1)\n",
    "t1=Hello()\n",
    "t2=Hi()\n",
    "t1.start()\n",
    "sleep(0.2)\n",
    "t2.start()\n",
    "print(\"Byee\")"
   ]
  },
  {
   "cell_type": "code",
   "execution_count": 68,
   "id": "84ace21e",
   "metadata": {},
   "outputs": [
    {
     "name": "stdout",
     "output_type": "stream",
     "text": [
      "Hello\n",
      "Hii\n",
      "Hello\n",
      "Hii\n",
      "Hello\n",
      "Hii\n",
      "Hello\n",
      "Hii\n",
      "Hello\n",
      "Hii\n",
      "Byee\n"
     ]
    }
   ],
   "source": [
    "from threading import Thread\n",
    "from time import sleep\n",
    "class Hello(Thread):\n",
    "    def run(self):\n",
    "        for i in range(5):\n",
    "            print(\"Hello\")\n",
    "            sleep(1)\n",
    "class Hi(Thread):\n",
    "    def run(self):\n",
    "        for i in range(5):\n",
    "            print(\"Hii\")\n",
    "            sleep(1)\n",
    "t1=Hello()\n",
    "t2=Hi()\n",
    "t1.start()\n",
    "sleep(0.2)\n",
    "t2.start()\n",
    "t1.join()\n",
    "t2.join()\n",
    "print(\"Byee\")"
   ]
  },
  {
   "cell_type": "code",
   "execution_count": 6,
   "id": "c2c0db09",
   "metadata": {},
   "outputs": [
    {
     "name": "stdout",
     "output_type": "stream",
     "text": [
      "calculate square numbers\n",
      "square: 4\n",
      "square: 9\n",
      "square: 64\n",
      "square: 81\n",
      "calculate cube of numbers\n",
      "cube: 8\n",
      "cube: 27\n",
      "cube: 512\n",
      "cube: 729\n",
      "done in :  1.6731064319610596\n",
      "Hah... I am done with all my work now!\n"
     ]
    }
   ],
   "source": [
    "#calculating time without multi threading\n",
    "\n",
    "import time\n",
    "\n",
    "def calc_square(numbers):\n",
    "    print(\"calculate square numbers\")\n",
    "    for n in numbers:\n",
    "        time.sleep(0.2)\n",
    "        print('square:',n*n)\n",
    "\n",
    "def calc_cube(numbers):\n",
    "    print(\"calculate cube of numbers\")\n",
    "    for n in numbers:\n",
    "        time.sleep(0.2)\n",
    "        print('cube:',n*n*n)\n",
    "\n",
    "arr = [2,3,8,9]\n",
    "\n",
    "t = time.time()\n",
    "\n",
    "calc_square(arr)\n",
    "calc_cube(arr)\n",
    "\n",
    "print(\"done in : \",time.time()-t)\n",
    "print(\"Hah... I am done with all my work now!\")"
   ]
  },
  {
   "cell_type": "code",
   "execution_count": 7,
   "id": "2cf84db7",
   "metadata": {},
   "outputs": [
    {
     "name": "stdout",
     "output_type": "stream",
     "text": [
      "calculate square numbers\n",
      "calculate cube of numbers\n",
      "square:cube: 4\n",
      " 8\n",
      "cube:square: 27\n",
      " 9\n",
      "cube:square: 512\n",
      " 64\n",
      "cube: 729\n",
      "square: 81\n",
      "done in :  0.8633968830108643\n",
      "Hah... I am done with all my work now!\n"
     ]
    }
   ],
   "source": [
    "#calculating time with multi threading\n",
    "\n",
    "import time\n",
    "import threading\n",
    "\n",
    "def calc_square(numbers):\n",
    "    print(\"calculate square numbers\")\n",
    "    for n in numbers:\n",
    "        time.sleep(0.2)\n",
    "        print('square:',n*n)\n",
    "\n",
    "def calc_cube(numbers):\n",
    "    print(\"calculate cube of numbers\")\n",
    "    for n in numbers:\n",
    "        time.sleep(0.2)\n",
    "        print('cube:',n*n*n)\n",
    "\n",
    "arr = [2,3,8,9]\n",
    "\n",
    "t = time.time()\n",
    "\n",
    "t1= threading.Thread(target=calc_square, args=(arr,))\n",
    "t2= threading.Thread(target=calc_cube, args=(arr,))\n",
    "\n",
    "t1.start()\n",
    "t2.start()\n",
    "\n",
    "t1.join()\n",
    "t2.join()\n",
    "\n",
    "print(\"done in : \",time.time()-t)\n",
    "print(\"Hah... I am done with all my work now!\")"
   ]
  },
  {
   "cell_type": "markdown",
   "id": "38decca4",
   "metadata": {},
   "source": [
    "# File Handling\n",
    "There are two types of files that can be handled in python:\n",
    "1. **Text files:** In this type of file, Each line of text is terminated with a special character called EOL (End of Line), which is the new line character (‘\\n’) in python by default.\n",
    "2. **Binary files:** In this type of file, there is no terminator for a line, and the data is stored after converting it into machine-understandable binary language.\n",
    "\n",
    "Different modes of opening a file :   \n",
    "1. **Read Only (‘r’) :** Open text file for reading. The handle is positioned at the beginning of the file. If the file does not exists, raises the I/O error. This is also the default mode in which a file is opened.\n",
    "2. **Read and Write (‘r+’):** Open the file for reading and writing. The handle is positioned at the beginning of the file. Raises I/O error if the file does not exist.\n",
    "3. **Write Only (‘w’) :** Open the file for writing. For the existing files, the data is truncated and over-written. The handle is positioned at the beginning of the file. Creates the file if the file does not exist.\n",
    "4. **Write and Read (‘w+’) :** Open the file for reading and writing. For an existing file, data is truncated and over-written. The handle is positioned at the beginning of the file.\n",
    "5. **Append Only (‘a’):** Open the file for writing. The file is created if it does not exist. The handle is positioned at the end of the file. The data being written will be inserted at the end, after the existing data.\n",
    "6. **Append and Read (‘a+’) :** Open the file for reading and writing. The file is created if it does not exist. The handle is positioned at the end of the file. The data being written will be inserted at the end, after the existing data.\n",
    "7. **Read Binary ('rb'):** reading binary files such as images,videos,..etc\n",
    "8. **Writing Binary ('wb'):** writing binary files"
   ]
  },
  {
   "cell_type": "code",
   "execution_count": 28,
   "id": "f8a3fbbb",
   "metadata": {},
   "outputs": [
    {
     "name": "stdout",
     "output_type": "stream",
     "text": [
      "<_io.TextIOWrapper name='Reading_File.txt' mode='r' encoding='cp1252'>\n"
     ]
    }
   ],
   "source": [
    "#Reading a file\n",
    "f=open(\"Reading_File.txt\",'r')\n",
    "print(f)\n",
    "f.close()"
   ]
  },
  {
   "cell_type": "code",
   "execution_count": 33,
   "id": "6d22aa6f",
   "metadata": {},
   "outputs": [
    {
     "name": "stdout",
     "output_type": "stream",
     "text": [
      "Hiii, Good Morning.\n",
      "How are you ?\n",
      "This is sample text file creating for practicing File Handling in Python.\n"
     ]
    }
   ],
   "source": [
    "#reading total file\n",
    "f=open(\"Reading_File.txt\",'r')\n",
    "print(f.read())\n",
    "f.close()"
   ]
  },
  {
   "cell_type": "code",
   "execution_count": 34,
   "id": "28ea9296",
   "metadata": {},
   "outputs": [
    {
     "name": "stdout",
     "output_type": "stream",
     "text": [
      "Hiii, Good Morning.\n",
      "\n"
     ]
    }
   ],
   "source": [
    "#reading first line\n",
    "f=open(\"Reading_File.txt\",'r')\n",
    "print(f.readline())\n",
    "f.close()"
   ]
  },
  {
   "cell_type": "code",
   "execution_count": 35,
   "id": "bb1eb5f9",
   "metadata": {},
   "outputs": [
    {
     "name": "stdout",
     "output_type": "stream",
     "text": [
      "Hiii, Good\n"
     ]
    }
   ],
   "source": [
    "#reading first 10 characters\n",
    "f=open(\"Reading_File.txt\",'r')\n",
    "print(f.readline(10))\n",
    "f.close()"
   ]
  },
  {
   "cell_type": "code",
   "execution_count": 36,
   "id": "e0693bb6",
   "metadata": {},
   "outputs": [
    {
     "name": "stdout",
     "output_type": "stream",
     "text": [
      "['Hiii, Good Morning.\\n', 'How are you ?\\n', 'This is sample text file creating for practicing File Handling in Python.']\n"
     ]
    }
   ],
   "source": [
    "#reading all the lines and storing it in a list\n",
    "f=open(\"Reading_File.txt\",'r')\n",
    "print(f.readlines())\n",
    "f.close()"
   ]
  },
  {
   "cell_type": "code",
   "execution_count": 2,
   "id": "80568dac",
   "metadata": {},
   "outputs": [
    {
     "name": "stdout",
     "output_type": "stream",
     "text": [
      "Hiii, Good Morning.\n",
      "How are you ?\n",
      "This is sample text file creating for practicing File Handling in Python.\n",
      "True\n"
     ]
    }
   ],
   "source": [
    "# with open is used so that it can automatically close the file\n",
    "# no need to close the file manually\n",
    "with open(\"Reading_File.txt\",'r') as f:\n",
    "    print(f.read())\n",
    "print(f.closed)"
   ]
  },
  {
   "cell_type": "markdown",
   "id": "64bfddbd",
   "metadata": {},
   "source": [
    "# Zip function \n",
    "he zip() function returns a zip object, which is an iterator of tuples where the first item in each passed iterator is paired together, and then the second item in each passed iterator are paired together etc.\n",
    "\n",
    "If the passed iterators have different lengths, the iterator with the least items decides the length of the new iterator."
   ]
  },
  {
   "cell_type": "code",
   "execution_count": 43,
   "id": "89fcbe39",
   "metadata": {},
   "outputs": [
    {
     "data": {
      "text/plain": [
       "<zip at 0x13e4304bc80>"
      ]
     },
     "execution_count": 43,
     "metadata": {},
     "output_type": "execute_result"
    }
   ],
   "source": [
    "names=['Sharath','Tarun','Sanjay','Vikas']\n",
    "ages=[19,20,21,22]\n",
    "zip(names,ages)"
   ]
  },
  {
   "cell_type": "code",
   "execution_count": 44,
   "id": "a46d0142",
   "metadata": {},
   "outputs": [
    {
     "data": {
      "text/plain": [
       "[('Sharath', 19), ('Tarun', 20), ('Sanjay', 21), ('Vikas', 22)]"
      ]
     },
     "execution_count": 44,
     "metadata": {},
     "output_type": "execute_result"
    }
   ],
   "source": [
    "list(zip(names,ages))"
   ]
  },
  {
   "cell_type": "code",
   "execution_count": 45,
   "id": "61ab3329",
   "metadata": {},
   "outputs": [
    {
     "data": {
      "text/plain": [
       "{('Sanjay', 21), ('Sharath', 19), ('Tarun', 20), ('Vikas', 22)}"
      ]
     },
     "execution_count": 45,
     "metadata": {},
     "output_type": "execute_result"
    }
   ],
   "source": [
    "set(zip(names,ages))"
   ]
  },
  {
   "cell_type": "code",
   "execution_count": 46,
   "id": "4e6eda30",
   "metadata": {},
   "outputs": [
    {
     "data": {
      "text/plain": [
       "{'Sharath': 19, 'Tarun': 20, 'Sanjay': 21, 'Vikas': 22}"
      ]
     },
     "execution_count": 46,
     "metadata": {},
     "output_type": "execute_result"
    }
   ],
   "source": [
    "dict(zip(names,ages))"
   ]
  },
  {
   "cell_type": "code",
   "execution_count": 47,
   "id": "193bf58a",
   "metadata": {},
   "outputs": [
    {
     "name": "stdout",
     "output_type": "stream",
     "text": [
      "Sharath 19\n",
      "Tarun 20\n",
      "Sanjay 21\n",
      "Vikas 22\n"
     ]
    }
   ],
   "source": [
    "for name,age in zip(names,ages):\n",
    "    print(name,age)"
   ]
  },
  {
   "cell_type": "code",
   "execution_count": null,
   "id": "aa74a9f6",
   "metadata": {},
   "outputs": [],
   "source": []
  }
 ],
 "metadata": {
  "kernelspec": {
   "display_name": "Python 3",
   "language": "python",
   "name": "python3"
  },
  "language_info": {
   "codemirror_mode": {
    "name": "ipython",
    "version": 3
   },
   "file_extension": ".py",
   "mimetype": "text/x-python",
   "name": "python",
   "nbconvert_exporter": "python",
   "pygments_lexer": "ipython3",
   "version": "3.8.8"
  }
 },
 "nbformat": 4,
 "nbformat_minor": 5
}
