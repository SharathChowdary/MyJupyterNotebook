{
 "cells": [
  {
   "cell_type": "markdown",
   "id": "c2da75f3",
   "metadata": {},
   "source": [
    "**python supports**\n",
    "1. Procedure oriented programming (functions and general programming procedure that we follow)\n",
    "2. Functional Programming (decorators..etc)\n",
    "3. Object Oriented Programming (objects and classes)"
   ]
  },
  {
   "cell_type": "markdown",
   "id": "23891e53",
   "metadata": {},
   "source": [
    "# Object Oriented Programming"
   ]
  },
  {
   "cell_type": "markdown",
   "id": "acb896c4",
   "metadata": {},
   "source": [
    "**Class :** Class is a blueprint which defines some properties and behaviors.            \n",
    "**Object :** An object is called an instance of a class. For example, suppose Bicycle is a class then MountainBicycle , SportsBicycle , TouringBicycle , etc can be considered as objects of the class.       \n",
    "**Methods :** The functions which are associated with the object are called methods.        \n",
    "**Attributes :** A variable stored in an instance or class is called an attribute. "
   ]
  },
  {
   "cell_type": "code",
   "execution_count": 1,
   "id": "975c8ed3",
   "metadata": {},
   "outputs": [
    {
     "name": "stdout",
     "output_type": "stream",
     "text": [
      "Name : Sharath\n",
      "Age : 20\n"
     ]
    }
   ],
   "source": [
    "#creating a basic class\n",
    "class Student:\n",
    "    def info(self):\n",
    "        print(\"Name : Sharath\")\n",
    "        print(\"Age : 20\")\n",
    "#creating an object for a class\n",
    "s1=Student()\n",
    "#accessing info method\n",
    "s1.info()"
   ]
  },
  {
   "cell_type": "code",
   "execution_count": 2,
   "id": "1a4fbf6c",
   "metadata": {},
   "outputs": [
    {
     "name": "stdout",
     "output_type": "stream",
     "text": [
      "Name : Sharath\n",
      "Age : 20\n"
     ]
    }
   ],
   "source": [
    "#another way of accessing info method\n",
    "Student.info(s1)"
   ]
  },
  {
   "cell_type": "markdown",
   "id": "e27ca53b",
   "metadata": {},
   "source": [
    "**Creating Constructor for the class**\n",
    "A constructor is called automatically when an object is created for it. "
   ]
  },
  {
   "cell_type": "code",
   "execution_count": 4,
   "id": "4071b22d",
   "metadata": {},
   "outputs": [
    {
     "name": "stdout",
     "output_type": "stream",
     "text": [
      "Inside Constructor\n"
     ]
    }
   ],
   "source": [
    "class Sample:\n",
    "    def __init__(self):\n",
    "        print(\"Inside Constructor\")\n",
    "    def method(self):\n",
    "        print(\"Hello\")\n",
    "s=Sample()"
   ]
  },
  {
   "cell_type": "code",
   "execution_count": 5,
   "id": "aa32c606",
   "metadata": {},
   "outputs": [
    {
     "name": "stdout",
     "output_type": "stream",
     "text": [
      "Name : sharath\n",
      "Age : 20\n"
     ]
    }
   ],
   "source": [
    "#Passing parameters into the constructor\n",
    "class Student:\n",
    "    def __init__(self,name,age):\n",
    "        self.name=name\n",
    "        self.age=age\n",
    "    def info(self):\n",
    "        print(\"Name :\",self.name)\n",
    "        print(\"Age :\",self.age)\n",
    "\n",
    "s1=Student(\"sharath\",20)\n",
    "s1.info()"
   ]
  },
  {
   "cell_type": "code",
   "execution_count": 8,
   "id": "4aa10359",
   "metadata": {},
   "outputs": [
    {
     "name": "stdout",
     "output_type": "stream",
     "text": [
      "Sharath\n",
      "20\n"
     ]
    }
   ],
   "source": [
    "#accessing the variables using object\n",
    "class Student:\n",
    "    def __init__(self):\n",
    "        self.name=\"Sharath\"\n",
    "        self.age=19\n",
    "    def info(self):\n",
    "        print(\"Name :\",self.name)\n",
    "        print(\"Age :\",self.age)\n",
    "s1=Student()\n",
    "#accessing name\n",
    "print(s1.name)\n",
    "#changing age\n",
    "s1.age=20\n",
    "#printing age\n",
    "print(s1.age)"
   ]
  },
  {
   "cell_type": "code",
   "execution_count": 11,
   "id": "1fe28c49",
   "metadata": {},
   "outputs": [
    {
     "name": "stdout",
     "output_type": "stream",
     "text": [
      "Adress of object 1 :  1371950978912\n",
      "Adress of object 2 :  1371950891600\n",
      "Ages are same\n"
     ]
    }
   ],
   "source": [
    "#comparing the if the age is same for 2 objects \n",
    "class Student:\n",
    "    def __init__(self):\n",
    "        self.name=\"Sharath\"\n",
    "        self.age=19\n",
    "    def sample_method(self):\n",
    "        print(\"It is a sample method\")\n",
    "    def compare_ages(self,other):\n",
    "        if self.age==other.age:\n",
    "            return True\n",
    "        else:\n",
    "            return False\n",
    "s1=Student()\n",
    "s2=Student()\n",
    "print(\"Adress of object 1 : \",id(s1))\n",
    "print(\"Adress of object 2 : \",id(s2))\n",
    "if s1.compare_ages(s2):\n",
    "    print(\"Ages are same\")\n",
    "else:\n",
    "    print(\"Ages are different\")"
   ]
  },
  {
   "cell_type": "code",
   "execution_count": 13,
   "id": "002ad044",
   "metadata": {},
   "outputs": [
    {
     "name": "stdout",
     "output_type": "stream",
     "text": [
      "Adress of object 1 :  1371950993712\n",
      "Adress of object 2 :  1371950993856\n",
      "Ages are different\n"
     ]
    }
   ],
   "source": [
    "class Student:\n",
    "    def __init__(self):\n",
    "        self.name=\"Sharath\"\n",
    "        self.age=19\n",
    "    def sample_method(self):\n",
    "        print(\"It is a sample method\")\n",
    "    def compare_ages(self,other):\n",
    "        if self.age==other.age:\n",
    "            return True\n",
    "        else:\n",
    "            return False\n",
    "s1=Student()\n",
    "#changing the age of object 1\n",
    "s1.age=20\n",
    "s2=Student()\n",
    "print(\"Adress of object 1 : \",id(s1))\n",
    "print(\"Adress of object 2 : \",id(s2))\n",
    "if s1.compare_ages(s2):\n",
    "    print(\"Ages are same\")\n",
    "else:\n",
    "    print(\"Ages are different\")"
   ]
  },
  {
   "cell_type": "markdown",
   "id": "d1a20fef",
   "metadata": {},
   "source": [
    "# Variables\n",
    "variables are two types:\n",
    "1. class variables (declared above __init__ method and inside the class)\n",
    "2. instance variables (declared inside the __init__ method)"
   ]
  },
  {
   "cell_type": "markdown",
   "id": "3ce1a1f6",
   "metadata": {},
   "source": [
    "**Class Variables / Static Variables**    \n",
    "They are not specific to a particular object        \n",
    "The value of class variables will be same for all objects         \n",
    "They can be accessed using object name as well as class name"
   ]
  },
  {
   "cell_type": "code",
   "execution_count": 8,
   "id": "3bbd4fab",
   "metadata": {},
   "outputs": [
    {
     "name": "stdout",
     "output_type": "stream",
     "text": [
      "5\n",
      "5\n"
     ]
    }
   ],
   "source": [
    "class Car:\n",
    "    #class variable\n",
    "    wheels=4\n",
    "    def __init__(self):\n",
    "        #instance variables\n",
    "        self.mil=10\n",
    "        self.company=\"BMW\"\n",
    "c1=Car()\n",
    "c2=Car()\n",
    "Car.wheels=5\n",
    "print(c1.wheels)\n",
    "print(c2.wheels)"
   ]
  },
  {
   "cell_type": "code",
   "execution_count": 9,
   "id": "0c93e87d",
   "metadata": {},
   "outputs": [
    {
     "name": "stdout",
     "output_type": "stream",
     "text": [
      "5\n",
      "4\n"
     ]
    }
   ],
   "source": [
    "#we can manually change value of a class variable for a particular object\n",
    "class Car:\n",
    "    #class variable\n",
    "    wheels=4\n",
    "    def __init__(self):\n",
    "        #instance variables\n",
    "        self.mil=10\n",
    "        self.company=\"BMW\"\n",
    "c1=Car()\n",
    "c1.wheels=5\n",
    "c2=Car()\n",
    "print(c1.wheels)\n",
    "print(c2.wheels)"
   ]
  },
  {
   "cell_type": "markdown",
   "id": "6816b998",
   "metadata": {},
   "source": [
    "**Instance Variables**   \n",
    "They can vary for every object   \n",
    "They can be accessed using only object name\n",
    "They are specific to an object"
   ]
  },
  {
   "cell_type": "code",
   "execution_count": 5,
   "id": "1357d11c",
   "metadata": {},
   "outputs": [
    {
     "name": "stdout",
     "output_type": "stream",
     "text": [
      "Mahindra 12\n",
      "BMW 10\n"
     ]
    }
   ],
   "source": [
    "class Car:\n",
    "    def __init__(self):\n",
    "        #instance variables\n",
    "        self.mil=10\n",
    "        self.company=\"BMW\"\n",
    "c1=Car()\n",
    "c2=Car()\n",
    "#changing the values of instance variables for c1\n",
    "c1.mil=12\n",
    "c1.company=\"Mahindra\"\n",
    "print(c1.company,c1.mil)\n",
    "print(c2.company,c2.mil)"
   ]
  },
  {
   "cell_type": "markdown",
   "id": "ae8cfddb",
   "metadata": {},
   "source": [
    "# Methods\n",
    "There are three types of methods in classes:\n",
    "1. instance methods\n",
    "2. class methods\n",
    "3. static methods\n",
    "\n",
    "**Note**\n",
    "1. Getter methods are called \"Actuators\".\n",
    "2. Setter methods are called \"Mutators\"."
   ]
  },
  {
   "cell_type": "markdown",
   "id": "68f7cde9",
   "metadata": {},
   "source": [
    "**Instance methods**    \n",
    "Methods that are accessed using objects are called instance methods   \n",
    "They contain self as a parameter  \n",
    "It works with instance variables"
   ]
  },
  {
   "cell_type": "code",
   "execution_count": 21,
   "id": "eacdeadd",
   "metadata": {},
   "outputs": [
    {
     "name": "stdout",
     "output_type": "stream",
     "text": [
      "Name :  Sharath\n",
      "Roll No :  21\n",
      "School :  Neelima High School\n",
      "Name :  Rahul\n",
      "Roll No :  25\n",
      "School :  Neelima High School\n"
     ]
    }
   ],
   "source": [
    "class Student:\n",
    "    school=\"Neelima High School\"\n",
    "    def __init__(self,name,rollno):\n",
    "        self.name=name\n",
    "        self.no=rollno\n",
    "    #instance method\n",
    "    def info(self):\n",
    "        print(\"Name : \",self.name)\n",
    "        print(\"Roll No : \",self.no)\n",
    "        print(\"School : \",self.school)\n",
    "        #for instance methods we self keyword to access class/static variables\n",
    "s1=Student(\"Sharath\",21)\n",
    "s2=Student(\"Rahul\",25)\n",
    "s1.info()\n",
    "s2.info()\n"
   ]
  },
  {
   "cell_type": "markdown",
   "id": "94f4ffbd",
   "metadata": {},
   "source": [
    "**Class method**   \n",
    "Methods that are accessed using classname and object name     \n",
    "special decorator called \"classmethod\" is used above the class method   \n",
    "It contains \"cls\" as a parameter   \n",
    "It works with class variables"
   ]
  },
  {
   "cell_type": "code",
   "execution_count": 4,
   "id": "847640ce",
   "metadata": {},
   "outputs": [
    {
     "name": "stdout",
     "output_type": "stream",
     "text": [
      "Changing school name in a normal method\n",
      "Neelima High School\n",
      "Neelima High School\n",
      "Neelima High School\n",
      "Neelima High School\n",
      "Changing school name using setters\n",
      "Other School\n",
      "Other School\n",
      "Other School\n",
      "Other School\n",
      "Other School\n"
     ]
    }
   ],
   "source": [
    "class Student:\n",
    "    school=\"Neelima High School\"\n",
    "    def __init__(self,name,rollno):\n",
    "        self.name=name\n",
    "        self.no=rollno\n",
    "    #instance method\n",
    "    def info(self):\n",
    "        print(\"Name : \",self.name)\n",
    "        print(\"Roll No : \",self.no)\n",
    "    #class methods\n",
    "    @classmethod\n",
    "    def get_school(cls):\n",
    "        print(cls.school)\n",
    "    @classmethod\n",
    "    def set_school(cls,school_name):\n",
    "        cls.school=school_name\n",
    "\n",
    "s1=Student(\"Sharath\",21)\n",
    "s2=Student(\"Rahul\",25)\n",
    "#if we change the value of a class variable in a normal method it won't change\n",
    "print(\"Changing school name in a normal method\")\n",
    "s1.school=\"Other School\" #the value of school changes if we use class name instead of object name\n",
    "s1.get_school()\n",
    "Student.get_school()\n",
    "s2.get_school()\n",
    "print(Student.school)\n",
    "#hence setters are used\n",
    "print(\"Changing school name using setters\")\n",
    "s1.set_school(\"Other School\")\n",
    "s1.get_school()\n",
    "s2.get_school()\n",
    "Student.get_school()\n",
    "print(s1.school)"
   ]
  },
  {
   "cell_type": "markdown",
   "id": "e879f626",
   "metadata": {},
   "source": [
    "**Static methods**    \n",
    "Static methods are accessed using Class name and object name         \n",
    "special decorator called \"staticmethod\" is used          \n",
    "it doesn't contain any parameters such as \"cls\" or \"self\"   \n",
    "static methods are used when there is nothing to do with \"class variables\" and \"instance variables'"
   ]
  },
  {
   "cell_type": "code",
   "execution_count": 5,
   "id": "b650eb4b",
   "metadata": {},
   "outputs": [
    {
     "name": "stdout",
     "output_type": "stream",
     "text": [
      "This is Student class that contains student information\n",
      "This is Student class that contains student information\n"
     ]
    }
   ],
   "source": [
    "class Student:\n",
    "    school=\"Neelima High School\"\n",
    "    def __init__(self,name,rollno):\n",
    "        self.name=name\n",
    "        self.no=rollno\n",
    "    def student_info(self):\n",
    "        print(\"Name : \",self.name)\n",
    "        print(\"Roll No : \",self.no)\n",
    "        print(\"School : \",self.school)\n",
    "    @staticmethod\n",
    "    def class_info():\n",
    "        print(\"This is Student class that contains student information\")\n",
    "s1=Student(\"Sharath\",21)\n",
    "s2=Student(\"Rahul\",25)\n",
    "#calling static method using class name\n",
    "Student.class_info()\n",
    "#calling static method using object name\n",
    "s1.class_info()"
   ]
  },
  {
   "cell_type": "markdown",
   "id": "77f99954",
   "metadata": {},
   "source": [
    "# Inner Class"
   ]
  },
  {
   "cell_type": "code",
   "execution_count": 46,
   "id": "ad7cb6ff",
   "metadata": {},
   "outputs": [
    {
     "name": "stdout",
     "output_type": "stream",
     "text": [
      "Sharath 20\n",
      "HP i5 8 GB\n"
     ]
    }
   ],
   "source": [
    "#creating inner class\n",
    "class Student:\n",
    "    def __init__(self,name,rollno):\n",
    "        self.name=name\n",
    "        self.rollno=rollno\n",
    "    def show(self):\n",
    "        print(self.name,self.rollno)\n",
    "    class Laptop:\n",
    "        def __init__(self):\n",
    "            self.brand=\"HP\"\n",
    "            self.processor=\"i5\"\n",
    "            self.ram=\"8 GB\"\n",
    "        def show(self):\n",
    "            print(self.brand,self.processor,self.ram)\n",
    "s1=Student(\"Sharath\",20)\n",
    "s1.show()\n",
    "#creating an object for inner class using class name\n",
    "lap1=Student.Laptop()\n",
    "lap1.show()"
   ]
  },
  {
   "cell_type": "code",
   "execution_count": 48,
   "id": "167c6c7f",
   "metadata": {},
   "outputs": [
    {
     "name": "stdout",
     "output_type": "stream",
     "text": [
      "Sharath 20\n",
      "HP i5 8 GB\n"
     ]
    }
   ],
   "source": [
    "#passing parameters into the inner class\n",
    "class Student:\n",
    "    def __init__(self,name,rollno):\n",
    "        self.name=name\n",
    "        self.rollno=rollno\n",
    "    def show(self):\n",
    "        print(self.name,self.rollno)\n",
    "    class Laptop:\n",
    "        def __init__(self,brand,processor,ram):\n",
    "            self.brand=brand\n",
    "            self.processor=processor\n",
    "            self.ram=ram\n",
    "        def show(self):\n",
    "            print(self.brand,self.processor,self.ram)\n",
    "s1=Student(\"Sharath\",20)\n",
    "s1.show()\n",
    "#creating an object for inner class using object name\n",
    "lap1=s1.Laptop(\"HP\",\"i5\",\"8 GB\")\n",
    "lap1.show()"
   ]
  },
  {
   "cell_type": "code",
   "execution_count": 7,
   "id": "c330e3fd",
   "metadata": {},
   "outputs": [
    {
     "name": "stdout",
     "output_type": "stream",
     "text": [
      "HP i5 8 GB\n"
     ]
    },
    {
     "data": {
      "text/plain": [
       "'HP'"
      ]
     },
     "execution_count": 7,
     "metadata": {},
     "output_type": "execute_result"
    }
   ],
   "source": [
    "#creating object for inner class inside the class\n",
    "class Student:\n",
    "    def __init__(self,name,rollno):\n",
    "        self.name=name\n",
    "        self.rollno=rollno\n",
    "        self.lap=self.Laptop()\n",
    "    def show(self):\n",
    "        print(self.name,self.rollno)\n",
    "    class Laptop:\n",
    "        def __init__(self):\n",
    "            self.brand=\"HP\"\n",
    "            self.processor=\"i5\"\n",
    "            self.ram=\"8 GB\"\n",
    "        def show(self):\n",
    "            print(self.brand,self.processor,self.ram)\n",
    "s1=Student(\"Sharath\",20)\n",
    "s1.lap.show()\n",
    "#accessing a variable of inner class\n",
    "s1.lap.brand"
   ]
  },
  {
   "cell_type": "markdown",
   "id": "392fd4de",
   "metadata": {},
   "source": [
    "# Inheritance  \n",
    "Process of inheriting properties or methods from the super class or parent class is called **Inheritance**\n",
    "\n",
    "\n",
    "There are five types of inheritances:\n",
    "1. Single Inheritance\n",
    "2. Multiple Inheritance\n",
    "3. Multilevel Inheritance\n",
    "4. Hierarchical Inheritance\n",
    "5. Hybrid Inheritance (combination of any two types of inheritances)"
   ]
  },
  {
   "cell_type": "code",
   "execution_count": 53,
   "id": "3d8cdcbb",
   "metadata": {},
   "outputs": [
    {
     "name": "stdout",
     "output_type": "stream",
     "text": [
      "Feature 1\n",
      "Feature 2\n",
      "Feature 3\n",
      "Feature 4\n"
     ]
    }
   ],
   "source": [
    "#single inheritance\n",
    "class A: #parent or super class\n",
    "    def feature1(self):\n",
    "        print(\"Feature 1\")\n",
    "    def feature2(self):\n",
    "        print(\"Feature 2\")\n",
    "class B(A): #child or sub class\n",
    "    def feature3(self):\n",
    "        print(\"Feature 3\")\n",
    "    def feature4(self):\n",
    "        print(\"Feature 4\")\n",
    "#creating an object for class B\n",
    "b1=B()\n",
    "#accessing methods of Class B and Class A using object of B\n",
    "b1.feature1()\n",
    "b1.feature2()\n",
    "b1.feature3()\n",
    "b1.feature4()"
   ]
  },
  {
   "cell_type": "code",
   "execution_count": 54,
   "id": "54e87b4d",
   "metadata": {},
   "outputs": [
    {
     "name": "stdout",
     "output_type": "stream",
     "text": [
      "Feature 1\n",
      "Feature 2\n",
      "Feature 3\n"
     ]
    }
   ],
   "source": [
    "#Multi-level inheritance\n",
    "class A: #parent or super class\n",
    "    def feature1(self):\n",
    "        print(\"Feature 1\")\n",
    "class B(A): #child or sub class\n",
    "    def feature2(self):\n",
    "        print(\"Feature 2\")\n",
    "class C(B): #Grand child\n",
    "    def feature3(self):\n",
    "        print(\"Feature 3\")\n",
    "#creating an object for class C (grand child)\n",
    "c1=C()\n",
    "c1.feature1()\n",
    "c1.feature2()\n",
    "c1.feature3()"
   ]
  },
  {
   "cell_type": "code",
   "execution_count": 55,
   "id": "7b067f4c",
   "metadata": {},
   "outputs": [
    {
     "name": "stdout",
     "output_type": "stream",
     "text": [
      "Feature 1\n",
      "Feature 2\n",
      "Feature 3\n"
     ]
    }
   ],
   "source": [
    "#Multiple inheritance\n",
    "class A: # parent 1\n",
    "    def feature1(self):\n",
    "        print(\"Feature 1\")\n",
    "class B: # parent 2\n",
    "    def feature2(self):\n",
    "        print(\"Feature 2\")\n",
    "class C(A,B): # child inheriting properties from paraent 1  and parent 2\n",
    "    def feature3(self):\n",
    "        print(\"Feature 3\")\n",
    "c1=C()\n",
    "c1.feature1()\n",
    "c1.feature2()\n",
    "c1.feature3()"
   ]
  },
  {
   "cell_type": "code",
   "execution_count": 56,
   "id": "1378f9ab",
   "metadata": {},
   "outputs": [
    {
     "name": "stdout",
     "output_type": "stream",
     "text": [
      "Feature 1\n",
      "Feature 2\n",
      "Feature 1\n",
      "Feature 3\n"
     ]
    }
   ],
   "source": [
    "# Hierarchical Inheritance\n",
    "class A: # parent\n",
    "    def feature1(self):\n",
    "        print(\"Feature 1\")\n",
    "class B(A): # child 1\n",
    "    def feature2(self):\n",
    "        print(\"Feature 2\")\n",
    "class C(A): # child 2\n",
    "    def feature3(self):\n",
    "        print(\"Feature 3\")\n",
    "child1=B()\n",
    "child2=C()\n",
    "child1.feature1()\n",
    "child1.feature2()\n",
    "child2.feature1()\n",
    "child2.feature3()"
   ]
  },
  {
   "cell_type": "markdown",
   "id": "8e6bac50",
   "metadata": {},
   "source": [
    "# Constructor in inheritance"
   ]
  },
  {
   "cell_type": "code",
   "execution_count": 57,
   "id": "50c9f4df",
   "metadata": {},
   "outputs": [
    {
     "name": "stdout",
     "output_type": "stream",
     "text": [
      "Init A\n"
     ]
    }
   ],
   "source": [
    "class A:\n",
    "    def __init__(self):\n",
    "        print(\"Init A\")\n",
    "    def feature1(self):\n",
    "        print(\"Feature 1\")\n",
    "class B(A):\n",
    "    def feature2(self):\n",
    "        print(\"Feature 2\")\n",
    "#creating an object for B (child class)        \n",
    "obj=B()\n",
    "# constructor of class A got called since there is no constructor for class B"
   ]
  },
  {
   "cell_type": "code",
   "execution_count": 59,
   "id": "ef257e3e",
   "metadata": {},
   "outputs": [
    {
     "name": "stdout",
     "output_type": "stream",
     "text": [
      "Init B\n"
     ]
    }
   ],
   "source": [
    "class A:\n",
    "    def __init__(self):\n",
    "        print(\"Init A\")\n",
    "    def feature1(self):\n",
    "        print(\"Feature 1\")\n",
    "class B(A):\n",
    "    def __init__(self):\n",
    "        print(\"Init B\")\n",
    "    def feature2(self):\n",
    "        print(\"Feature 2\")\n",
    "#creating an object for B (child class)        \n",
    "obj=B()\n",
    "#now the constuctor of Class B got called"
   ]
  },
  {
   "cell_type": "code",
   "execution_count": 61,
   "id": "72fd1b41",
   "metadata": {},
   "outputs": [
    {
     "name": "stdout",
     "output_type": "stream",
     "text": [
      "Init A\n",
      "Init B\n"
     ]
    }
   ],
   "source": [
    "#calling the constructor of class A as well using super()\n",
    "class A:\n",
    "    def __init__(self):\n",
    "        print(\"Init A\")\n",
    "    def feature1(self):\n",
    "        print(\"Feature 1\")\n",
    "class B(A):\n",
    "    def __init__(self):\n",
    "        super().__init__()\n",
    "        print(\"Init B\")\n",
    "    def feature2(self):\n",
    "        print(\"Feature 2\")\n",
    "obj=B()"
   ]
  },
  {
   "cell_type": "markdown",
   "id": "7220cedb",
   "metadata": {},
   "source": [
    "**Method Resolution Order (MRO)** --> left to right"
   ]
  },
  {
   "cell_type": "code",
   "execution_count": 63,
   "id": "11022775",
   "metadata": {},
   "outputs": [
    {
     "name": "stdout",
     "output_type": "stream",
     "text": [
      "Init A\n",
      "Init C\n"
     ]
    }
   ],
   "source": [
    "class A:\n",
    "    def __init__(self):\n",
    "        print(\"Init A\")\n",
    "    def feature1(self):\n",
    "        print(\"Feature 1\")\n",
    "class B:\n",
    "    def __init__(self):\n",
    "        print(\"Init B\")\n",
    "    def feature2(self):\n",
    "        print(\"Feature 2\")\n",
    "class C(A,B):\n",
    "    def __init__(self):\n",
    "        super().__init__()\n",
    "        print(\"Init C\")\n",
    "    def feature3(self):\n",
    "        print(\"Feature 3\")\n",
    "obj=C()\n",
    "#constructor of A got called , since A is first i.e (A,B)"
   ]
  },
  {
   "cell_type": "code",
   "execution_count": 64,
   "id": "88b18bd8",
   "metadata": {},
   "outputs": [
    {
     "name": "stdout",
     "output_type": "stream",
     "text": [
      "Feature in A\n"
     ]
    }
   ],
   "source": [
    "#same applies for methods\n",
    "class A:\n",
    "    def feature1(self):\n",
    "        print(\"Feature 1\")\n",
    "    def feature(self):\n",
    "        print(\"Feature in A\")\n",
    "class B:\n",
    "    def feature2(self):\n",
    "        print(\"Feature 2\")\n",
    "    def feature(self):\n",
    "        print(\"Feature in B\")\n",
    "class C(A,B):\n",
    "    def feature3(self):\n",
    "        print(\"Feature 3\")\n",
    "obj=C()\n",
    "obj.feature()"
   ]
  },
  {
   "cell_type": "markdown",
   "id": "c7f3dad7",
   "metadata": {},
   "source": [
    "#  Polymorphism\n",
    "Polymorphism is one of the OOPs feature that allows us to perform a single action in different ways.   \n",
    "\n",
    "Types of polymorphisms in python :   \n",
    "1. Duck Typing\n",
    "2. Operator Overloading\n",
    "3. Method Overloading\n",
    "4. Method Overriding"
   ]
  },
  {
   "cell_type": "markdown",
   "id": "6b91563e",
   "metadata": {},
   "source": [
    "# Duck Typing\n",
    "Duck Typing is a term commonly related to dynamically typed programming languages and polymorphism. The idea behind this principle is that the code itself does not care about whether an object is a duck, but instead it does only care about whether it quacks. **( or )** Duck typing is a concept related to dynamic typing, where the type or the class of an object is less important than the methods it defines. When you use duck typing, you do not check types at all. Instead, you check for the presence of a given method or attribute.\n",
    "\n",
    "The main reason for using duck typing is to provide support for dynamic typing in Python programming. In Python, we don't need to specify the variable's data type and we can reassign the different data type values to same variable in further code."
   ]
  },
  {
   "cell_type": "code",
   "execution_count": 6,
   "id": "0fb535c9",
   "metadata": {},
   "outputs": [
    {
     "name": "stdout",
     "output_type": "stream",
     "text": [
      "Virat Kohli plays...\n",
      "Cover Drive\n",
      "Straight Drive\n",
      "Cut Shot\n"
     ]
    }
   ],
   "source": [
    "class ViratKohli:\n",
    "    def plays(self):\n",
    "        print(\"Virat Kohli plays...\")\n",
    "        print(\"Cover Drive\")\n",
    "        print(\"Straight Drive\")\n",
    "        print(\"Cut Shot\")\n",
    "class Cricket:\n",
    "    def batsman(self,player):\n",
    "        player.plays()\n",
    "c=Cricket()\n",
    "c.batsman(ViratKohli())"
   ]
  },
  {
   "cell_type": "code",
   "execution_count": 9,
   "id": "96d0872f",
   "metadata": {},
   "outputs": [
    {
     "name": "stdout",
     "output_type": "stream",
     "text": [
      "Surya Kumar Yadav plays...\n",
      "Cover Drive\n",
      "Straight Drive\n",
      "Cut Shot\n",
      "Reverse Sweep\n",
      "Upper cut\n",
      "Flick shot\n",
      "360 degree shots\n"
     ]
    }
   ],
   "source": [
    "class ViratKohli:\n",
    "    def plays(self):\n",
    "        print(\"Virat Kohli plays...\")\n",
    "        print(\"Cover Drive\")\n",
    "        print(\"Straight Drive\")\n",
    "        print(\"Cut Shot\")\n",
    "class SKY:\n",
    "    def plays(self):\n",
    "        print(\"Surya Kumar Yadav plays...\")\n",
    "        print(\"Cover Drive\")\n",
    "        print(\"Straight Drive\")\n",
    "        print(\"Cut Shot\")\n",
    "        print(\"Reverse Sweep\")\n",
    "        print(\"Upper cut\")\n",
    "        print(\"Flick shot\")\n",
    "        print(\"360 degree shots\")\n",
    "class Cricket:\n",
    "    def batsman(self,player):\n",
    "        # here player is not specific to ViratKohli or SKY it doesn't matter which class we are passing\n",
    "        # all it matters is that player containing plays() method or not\n",
    "        player.plays()\n",
    "        \n",
    "        \n",
    "c=Cricket()\n",
    "c.batsman(SKY())"
   ]
  },
  {
   "cell_type": "markdown",
   "id": "fe548eea",
   "metadata": {},
   "source": [
    "# Operator Overloading\n",
    "Operator Overloading means giving extended meaning beyond their predefined operational meaning. For example operator + is used to add two integers as well as join two strings and merge two lists. It is achievable because '+' operator is overloaded by int class and str class."
   ]
  },
  {
   "cell_type": "code",
   "execution_count": 10,
   "id": "f1dbc919",
   "metadata": {},
   "outputs": [
    {
     "data": {
      "text/plain": [
       "11"
      ]
     },
     "execution_count": 10,
     "metadata": {},
     "output_type": "execute_result"
    }
   ],
   "source": [
    "#normal method that we know of adding two numbers\n",
    "a=5\n",
    "b=6\n",
    "a+b"
   ]
  },
  {
   "cell_type": "code",
   "execution_count": 11,
   "id": "4b996919",
   "metadata": {},
   "outputs": [
    {
     "data": {
      "text/plain": [
       "11"
      ]
     },
     "execution_count": 11,
     "metadata": {},
     "output_type": "execute_result"
    }
   ],
   "source": [
    "#behind the scene what it happens\n",
    "int.__add__(a,b)"
   ]
  },
  {
   "cell_type": "code",
   "execution_count": 15,
   "id": "258b73d9",
   "metadata": {},
   "outputs": [
    {
     "data": {
      "text/plain": [
       "'SharathChowdary'"
      ]
     },
     "execution_count": 15,
     "metadata": {},
     "output_type": "execute_result"
    }
   ],
   "source": [
    "#for strings\n",
    "str1=\"Sharath\"\n",
    "str2=\"Chowdary\"\n",
    "str1+str2"
   ]
  },
  {
   "cell_type": "code",
   "execution_count": 16,
   "id": "9a02703b",
   "metadata": {},
   "outputs": [
    {
     "data": {
      "text/plain": [
       "'SharathChowdary'"
      ]
     },
     "execution_count": 16,
     "metadata": {},
     "output_type": "execute_result"
    }
   ],
   "source": [
    "str.__add__(str1,str2)"
   ]
  },
  {
   "cell_type": "code",
   "execution_count": 17,
   "id": "ec797393",
   "metadata": {},
   "outputs": [],
   "source": [
    "class Student:\n",
    "    def __init__(self,m1,m2):\n",
    "        self.m1=m1\n",
    "        self.m2=m2\n",
    "s1=Student(56,62)\n",
    "s2=Student(45,71)\n",
    "#if i want to add marks of 2 student and return it to the third student\n",
    "#i.e s3 = s1 + s2 (not possible directly)"
   ]
  },
  {
   "cell_type": "code",
   "execution_count": 20,
   "id": "2b092ecf",
   "metadata": {},
   "outputs": [
    {
     "name": "stdout",
     "output_type": "stream",
     "text": [
      "101 133\n"
     ]
    }
   ],
   "source": [
    "#adding two classes\n",
    "class Student:\n",
    "    def __init__(self,m1,m2):\n",
    "        self.m1=m1\n",
    "        self.m2=m2\n",
    "    def __add__(self,other):\n",
    "        m1=self.m1+other.m1\n",
    "        m2=self.m2+other.m2\n",
    "        return Student(m1,m2)\n",
    "s1=Student(56,62)\n",
    "s2=Student(45,71)\n",
    "s3=s1+s2\n",
    "print(s3.m1,s3.m2) # 56+45=101 and 62+71=133"
   ]
  },
  {
   "cell_type": "code",
   "execution_count": 23,
   "id": "0ac51f81",
   "metadata": {},
   "outputs": [
    {
     "name": "stdout",
     "output_type": "stream",
     "text": [
      "S1 wins\n"
     ]
    }
   ],
   "source": [
    "#comparing two students\n",
    "class Student:\n",
    "    def __init__(self,m1,m2):\n",
    "        self.m1=m1\n",
    "        self.m2=m2\n",
    "    def __add__(self,other):\n",
    "        m1=self.m1+other.m1\n",
    "        m2=self.m2+other.m2\n",
    "        return Student(m1,m2)\n",
    "    def __gt__(self,other):\n",
    "        s1_marks=self.m1+self.m2 # 118\n",
    "        s2_marks=other.m1+other.m2 # 116\n",
    "        return s1_marks>s2_marks\n",
    "s1=Student(56,62)\n",
    "s2=Student(45,71)\n",
    "if s1>s2:\n",
    "    print(\"S1 wins\")\n",
    "else:\n",
    "    print(\"S2 wins\")"
   ]
  },
  {
   "cell_type": "code",
   "execution_count": 31,
   "id": "d3d3bf2b",
   "metadata": {},
   "outputs": [
    {
     "name": "stdout",
     "output_type": "stream",
     "text": [
      "5\n"
     ]
    }
   ],
   "source": [
    "#process of printing a number using variable name that we know\n",
    "a=5\n",
    "print(a)"
   ]
  },
  {
   "cell_type": "code",
   "execution_count": 32,
   "id": "b62c7884",
   "metadata": {},
   "outputs": [
    {
     "name": "stdout",
     "output_type": "stream",
     "text": [
      "5\n"
     ]
    }
   ],
   "source": [
    "#behind the scene process\n",
    "a=5\n",
    "print(a.__str__())"
   ]
  },
  {
   "cell_type": "code",
   "execution_count": 34,
   "id": "26080bcc",
   "metadata": {},
   "outputs": [
    {
     "name": "stdout",
     "output_type": "stream",
     "text": [
      "<__main__.Student object at 0x0000023A298517C0>\n"
     ]
    }
   ],
   "source": [
    "#printing the values of a class\n",
    "class Student:\n",
    "    def __init__(self,m1,m2):\n",
    "        self.m1=m1\n",
    "        self.m2=m2\n",
    "s1=Student(56,62)\n",
    "print(s1)"
   ]
  },
  {
   "cell_type": "code",
   "execution_count": 38,
   "id": "57cb3b53",
   "metadata": {},
   "outputs": [
    {
     "name": "stdout",
     "output_type": "stream",
     "text": [
      "56 62\n"
     ]
    }
   ],
   "source": [
    "class Student:\n",
    "    def __init__(self,m1,m2):\n",
    "        self.m1=m1\n",
    "        self.m2=m2\n",
    "    def __str__(self):\n",
    "        return f\"{self.m1} {self.m2}\"\n",
    "s1=Student(56,62)\n",
    "#printing values of a class directly by passing object name\n",
    "print(s1)"
   ]
  },
  {
   "cell_type": "markdown",
   "id": "3ea06e30",
   "metadata": {},
   "source": [
    "# Overloading\n",
    "Two or more methods have the same name but different numbers of parameters or different types of parameters, or both. These methods are called overloaded methods and this is called method overloading.\n",
    "\n",
    "**By Default Python doesn't support Method Overloading**"
   ]
  },
  {
   "cell_type": "code",
   "execution_count": 50,
   "id": "46ce3d13",
   "metadata": {},
   "outputs": [
    {
     "name": "stdout",
     "output_type": "stream",
     "text": [
      "7\n"
     ]
    }
   ],
   "source": [
    "#This actual overloading python doesn't support it\n",
    "class Calculator:\n",
    "    def add(self,a,b,c):\n",
    "        return a+b+c\n",
    "    def add(self,a,b,c,d):\n",
    "        return a+b+c+d\n",
    "    def add(self,a,b): #only this method is considered since it is written at end\n",
    "        return a+b\n",
    "c=Calculator()\n",
    "#print(c.add(3,4))\n",
    "#print(c.add(4,5,6))\n",
    "print(c.add(2,5))"
   ]
  },
  {
   "cell_type": "code",
   "execution_count": 51,
   "id": "98a4f177",
   "metadata": {},
   "outputs": [
    {
     "name": "stdout",
     "output_type": "stream",
     "text": [
      "7\n",
      "15\n",
      "16\n"
     ]
    }
   ],
   "source": [
    "#This is not actual method overloading\n",
    "class Calculator:\n",
    "    def add(self,a=0,b=0,c=0,d=0,e=0):\n",
    "        return a+b+c+d+e\n",
    "c=Calculator()\n",
    "print(c.add(3,4))\n",
    "print(c.add(4,5,6))\n",
    "print(c.add(2,5,6,3))"
   ]
  },
  {
   "cell_type": "markdown",
   "id": "ddc1739f",
   "metadata": {},
   "source": [
    "# Method Overriding\n",
    " Method Overriding is redefining a parent class method in the derived class.     \n",
    " In method overriding, the child class can change its functions that are defined by its ancestral classes."
   ]
  },
  {
   "cell_type": "code",
   "execution_count": 54,
   "id": "713185fa",
   "metadata": {},
   "outputs": [
    {
     "name": "stdout",
     "output_type": "stream",
     "text": [
      "Show method in class A\n"
     ]
    }
   ],
   "source": [
    "class A:\n",
    "    def show(self):\n",
    "        print(\"Show method in class A\")\n",
    "class B(A):\n",
    "    pass\n",
    "obj=B()\n",
    "obj.show()\n",
    "#since there is no show method in class B , show method of class A gets called"
   ]
  },
  {
   "cell_type": "code",
   "execution_count": 57,
   "id": "cb2ff058",
   "metadata": {},
   "outputs": [
    {
     "name": "stdout",
     "output_type": "stream",
     "text": [
      "Show method of class B\n"
     ]
    }
   ],
   "source": [
    "class A:\n",
    "    def show(self):\n",
    "        print(\"Show method in class A\")\n",
    "class B(A):\n",
    "    def show(self):\n",
    "        print(\"Show method of class B\")\n",
    "obj=B()\n",
    "obj.show()\n",
    "# since there is a show method in class B , show method of class B gets called\n",
    "# show method of class B is overriding the show method of class A"
   ]
  },
  {
   "cell_type": "markdown",
   "id": "e7fc7138",
   "metadata": {},
   "source": [
    "# Abstract classes\n",
    "**Abstract class :** A class containing atleast one abstract method is known as Abstract Class.    \n",
    "**Abstract method :** A method that has only declaration but not definition is known an Abstract Method.\n",
    "\n",
    "1. we can't create an object for an Abstract class.\n",
    "2. It is important for a class that is inheriting abstract class, is to contain all the abstract methods present in that abstract class. If not it is also be treated as an abstract class."
   ]
  },
  {
   "cell_type": "code",
   "execution_count": 60,
   "id": "014d60c7",
   "metadata": {},
   "outputs": [
    {
     "name": "stdout",
     "output_type": "stream",
     "text": [
      "Laptop is processing\n"
     ]
    }
   ],
   "source": [
    "from abc import ABC,abstractmethod\n",
    "class Computer(ABC):\n",
    "    @abstractmethod\n",
    "    def process(self):\n",
    "        pass\n",
    "class Laptop(Computer):\n",
    "    def process(self):\n",
    "        print(\"Laptop is processing\")\n",
    "lap=Laptop()\n",
    "lap.process()"
   ]
  }
 ],
 "metadata": {
  "kernelspec": {
   "display_name": "Python 3",
   "language": "python",
   "name": "python3"
  },
  "language_info": {
   "codemirror_mode": {
    "name": "ipython",
    "version": 3
   },
   "file_extension": ".py",
   "mimetype": "text/x-python",
   "name": "python",
   "nbconvert_exporter": "python",
   "pygments_lexer": "ipython3",
   "version": "3.8.8"
  }
 },
 "nbformat": 4,
 "nbformat_minor": 5
}
